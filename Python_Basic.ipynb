{
  "nbformat": 4,
  "nbformat_minor": 0,
  "metadata": {
    "colab": {
      "provenance": []
    },
    "kernelspec": {
      "name": "python3",
      "display_name": "Python 3"
    },
    "language_info": {
      "name": "python"
    }
  },
  "cells": [
    {
      "cell_type": "markdown",
      "source": [
        "                                                        **Python Basics Questions**\n",
        "(1) What is Python, and why is it popular?\n",
        "- Python is a programming language and it's popular because it is easy to\n",
        "    to understand and beginner friendly to learn.\n",
        "\n",
        "\n",
        "\n",
        "\n",
        "\n",
        "\n",
        "\n"
      ],
      "metadata": {
        "id": "t6W3JRKEozaq"
      }
    },
    {
      "cell_type": "markdown",
      "source": [
        "(2) What is an interpreter in Python?\n",
        "- An interpreter in the python is programm which execute the code line by\n",
        "    line and convert human language to machine language in the form of the binary form."
      ],
      "metadata": {
        "id": "yk0UM1O_x7nP"
      }
    },
    {
      "cell_type": "markdown",
      "source": [
        "(3) What are pre-defined keywords in Python?\n",
        "- Python has pre-define keywords that has a special meaning of the keywords\n",
        "    keyword does not take the nariable name , function name etc and these are\n",
        "    case_sensative."
      ],
      "metadata": {
        "id": "6oquBkMHyBl9"
      }
    },
    {
      "cell_type": "markdown",
      "source": [
        "(4) Can keywords be used as variable names?\n",
        "- No, keywords does not used the keywords name because keywords has hold the\n",
        "    special meaning of the word."
      ],
      "metadata": {
        "id": "WlUCOuN1yDdc"
      }
    },
    {
      "cell_type": "markdown",
      "source": [
        "(5) What is mutability in Python?\n",
        "- In the python mutability means we can change the elements , item of the\n",
        "    data."
      ],
      "metadata": {
        "id": "grQQaQblyDf7"
      }
    },
    {
      "cell_type": "markdown",
      "source": [
        "(6) Why are lists mutable, but tuples are immutable?\n",
        "- Python degined list is mutable and tuple is immutable because\n",
        "    in the list python allows to create the new elements and changing the elements as well as tuple does not allow the changing after the creation so list is muttable and tuple is immutable."
      ],
      "metadata": {
        "id": "lY6xodK7yDiW"
      }
    },
    {
      "cell_type": "markdown",
      "source": [
        "(7) What is the difference between “==” and “is” operators in Python?\n",
        "- In the pyhon \"==\" operators means it check it is equla to\n",
        "    and is means it check the both are the same memory location."
      ],
      "metadata": {
        "id": "gVZHcaItyDk0"
      }
    },
    {
      "cell_type": "markdown",
      "source": [
        "(8) What are logical operators in Python?\n",
        "- Logical operators in the python it's combine the satetment and give the   \n",
        "    output in the bollean True and False.\n",
        "    These are the two types of the operators\n",
        "    (1) and (2) or"
      ],
      "metadata": {
        "id": "Tl2ncnKhyDnk"
      }
    },
    {
      "cell_type": "markdown",
      "source": [
        "(9) What is type casting in Python?\n",
        "- Type casting is the process in the python where we change data in one type\n",
        "    to the another is know as the type casting."
      ],
      "metadata": {
        "id": "re1pXUPoyDqF"
      }
    },
    {
      "cell_type": "markdown",
      "source": [
        "(10) What is the difference between implicit and explicit type casting?\n",
        "- Implicit type casting where the python it's automatically changwe the type\n",
        "     of the data type.\n",
        "     In the Explicit tupe casting where we cange the data type is known as the Explicit type casting."
      ],
      "metadata": {
        "id": "87n4sU_byDst"
      }
    },
    {
      "cell_type": "markdown",
      "source": [
        "(11) What is the purpose of conditional statements in Python?\n",
        "- In the python the conditional statements are the decision based the\n",
        "    statements.\n",
        "    In the python the conditional statement is work if-else,if-elif-else\n",
        "    if-else:\n",
        "    if condition is true then its print the if statement other wise it's print the else statement.\n",
        "    if-elif-else:\n",
        "    if condition is true then its print the if statement other wise it's goes to the elif statement if it's true then it print the elif statement other wise it's print the else print."
      ],
      "metadata": {
        "id": "o9G9W8DjyDvU"
      }
    },
    {
      "cell_type": "markdown",
      "source": [
        "(12) How does the elif statement work?\n",
        "- elif statement work in the python if statement condition is false then  \n",
        "     it's goes to the elif statement and it's print the elif statement."
      ],
      "metadata": {
        "id": "3iWmhOtEyDyQ"
      }
    },
    {
      "cell_type": "markdown",
      "source": [
        "(13) What is the difference between for and while loops?\n",
        "- Both are the type of the loos\n",
        "     (1) for loop : Work when we not gone the stoping condition in the simple word if we not know the stoping condition and if we itterable then used the for loop.\n",
        "     (2) while loop : It's work when we know the stoping condition of the loop."
      ],
      "metadata": {
        "id": "DCYIfLhUyD1t"
      }
    },
    {
      "cell_type": "markdown",
      "source": [
        "(14) Describe a scenario where a while loop is more suitable than a for loop?\n",
        "- A while loop is more suitable when the number of iterations is unknown\n",
        "    beforehand and depends on a condition being met.\n"
      ],
      "metadata": {
        "id": "DE9F-sNvyBz6"
      }
    },
    {
      "cell_type": "markdown",
      "source": [
        "                          **  Practical** **Questions**"
      ],
      "metadata": {
        "id": "YyQ7OIPBzaax"
      }
    },
    {
      "cell_type": "markdown",
      "source": [
        "(1)  Write a Python program to print \"Hello, World!\"?\n"
      ],
      "metadata": {
        "id": "j7fOFgi90FDd"
      }
    },
    {
      "cell_type": "code",
      "source": [
        "a = \"Hell0,World!\"\n",
        "print(a)"
      ],
      "metadata": {
        "colab": {
          "base_uri": "https://localhost:8080/"
        },
        "id": "_f9jj92exNLY",
        "outputId": "8a4ec1e2-a838-4c1b-8727-5c8dbfad8608"
      },
      "execution_count": 2,
      "outputs": [
        {
          "output_type": "stream",
          "name": "stdout",
          "text": [
            "Hell0,World!\n"
          ]
        }
      ]
    },
    {
      "cell_type": "markdown",
      "source": [
        "(2) Write a Python program that displays your name and age?"
      ],
      "metadata": {
        "id": "X8yYYx8F0YYN"
      }
    },
    {
      "cell_type": "code",
      "source": [
        "name = input(\"Enter your name : \")\n",
        "age = int(input(\"Enter your age : \"))\n",
        "print(f\"My name is {name} and my age is {age}\")"
      ],
      "metadata": {
        "colab": {
          "base_uri": "https://localhost:8080/"
        },
        "id": "WYf3fo0z0XW5",
        "outputId": "7f5a0f8f-9ed5-4280-9e48-a84ae2a2a684"
      },
      "execution_count": 5,
      "outputs": [
        {
          "output_type": "stream",
          "name": "stdout",
          "text": [
            "Enter your name : Aditya\n",
            "Enter your age : 21\n",
            "My name is Aditya and my age is 21\n"
          ]
        }
      ]
    },
    {
      "cell_type": "markdown",
      "source": [
        "(3) Write code to print all the pre-defined keywords in Python using the  \n",
        "    keyword library?"
      ],
      "metadata": {
        "id": "suBbrxUU0uoa"
      }
    },
    {
      "cell_type": "code",
      "source": [
        "import keyword\n",
        "Keywords = keyword.kwlist\n",
        "for kw in Keywords:\n",
        "  print(kw)"
      ],
      "metadata": {
        "colab": {
          "base_uri": "https://localhost:8080/"
        },
        "id": "5M2JP-f90tcD",
        "outputId": "358bc6e6-d742-4516-88f1-364f7d3eb2e1"
      },
      "execution_count": 10,
      "outputs": [
        {
          "output_type": "stream",
          "name": "stdout",
          "text": [
            "False\n",
            "None\n",
            "True\n",
            "and\n",
            "as\n",
            "assert\n",
            "async\n",
            "await\n",
            "break\n",
            "class\n",
            "continue\n",
            "def\n",
            "del\n",
            "elif\n",
            "else\n",
            "except\n",
            "finally\n",
            "for\n",
            "from\n",
            "global\n",
            "if\n",
            "import\n",
            "in\n",
            "is\n",
            "lambda\n",
            "nonlocal\n",
            "not\n",
            "or\n",
            "pass\n",
            "raise\n",
            "return\n",
            "try\n",
            "while\n",
            "with\n",
            "yield\n"
          ]
        }
      ]
    },
    {
      "cell_type": "markdown",
      "source": [
        "(4) Write a program that checks if a given word is a Python keyword?"
      ],
      "metadata": {
        "id": "YnguI8p43ttk"
      }
    },
    {
      "cell_type": "code",
      "source": [
        "import keyword\n",
        "keywords = keyword.kwlist\n",
        "word = input(\"Enter a word: \")\n",
        "if word in keywords:\n",
        "  print(f\"{word} in the keywords\")\n",
        "else:\n",
        "  print(f\"{word} not in  the keywords\")\n"
      ],
      "metadata": {
        "colab": {
          "base_uri": "https://localhost:8080/"
        },
        "id": "1-6oVVbK0U8m",
        "outputId": "da0ed9db-5ec4-4e12-a05a-ad96510dd63b"
      },
      "execution_count": 13,
      "outputs": [
        {
          "output_type": "stream",
          "name": "stdout",
          "text": [
            "Enter a word: True\n",
            "True in the keywords\n"
          ]
        }
      ]
    },
    {
      "cell_type": "markdown",
      "source": [
        "(5) Create a list and tuple in Python, and demonstrate how attempting to change an element works differently\n",
        "for each."
      ],
      "metadata": {
        "id": "EKykjvHU5ssA"
      }
    },
    {
      "cell_type": "code",
      "source": [
        "List = [\"Aditya\",\"Kamal\",\"Mohsin\"]\n",
        "Tuple = (\"Aditya\",\"Kamal\",\"Mohsin\")\n",
        "List[0] = \"Divyansd\"\n",
        "print(List)\n",
        "Tuple[0] = \"Divyansd\"\n",
        "print(Tuple)"
      ],
      "metadata": {
        "colab": {
          "base_uri": "https://localhost:8080/",
          "height": 211
        },
        "id": "NRm5QCd85Grc",
        "outputId": "a707c10d-a384-4296-d47f-0888d0888047"
      },
      "execution_count": 14,
      "outputs": [
        {
          "output_type": "stream",
          "name": "stdout",
          "text": [
            "['Divyansd', 'Kamal', 'Mohsin']\n"
          ]
        },
        {
          "output_type": "error",
          "ename": "TypeError",
          "evalue": "'tuple' object does not support item assignment",
          "traceback": [
            "\u001b[0;31m---------------------------------------------------------------------------\u001b[0m",
            "\u001b[0;31mTypeError\u001b[0m                                 Traceback (most recent call last)",
            "\u001b[0;32m<ipython-input-14-d5de97934e11>\u001b[0m in \u001b[0;36m<cell line: 0>\u001b[0;34m()\u001b[0m\n\u001b[1;32m      3\u001b[0m \u001b[0mList\u001b[0m\u001b[0;34m[\u001b[0m\u001b[0;36m0\u001b[0m\u001b[0;34m]\u001b[0m \u001b[0;34m=\u001b[0m \u001b[0;34m\"Divyansd\"\u001b[0m\u001b[0;34m\u001b[0m\u001b[0;34m\u001b[0m\u001b[0m\n\u001b[1;32m      4\u001b[0m \u001b[0mprint\u001b[0m\u001b[0;34m(\u001b[0m\u001b[0mList\u001b[0m\u001b[0;34m)\u001b[0m\u001b[0;34m\u001b[0m\u001b[0;34m\u001b[0m\u001b[0m\n\u001b[0;32m----> 5\u001b[0;31m \u001b[0mTuple\u001b[0m\u001b[0;34m[\u001b[0m\u001b[0;36m0\u001b[0m\u001b[0;34m]\u001b[0m \u001b[0;34m=\u001b[0m \u001b[0;34m\"Divyansd\"\u001b[0m\u001b[0;34m\u001b[0m\u001b[0;34m\u001b[0m\u001b[0m\n\u001b[0m\u001b[1;32m      6\u001b[0m \u001b[0mprint\u001b[0m\u001b[0;34m(\u001b[0m\u001b[0mTuple\u001b[0m\u001b[0;34m)\u001b[0m\u001b[0;34m\u001b[0m\u001b[0;34m\u001b[0m\u001b[0m\n",
            "\u001b[0;31mTypeError\u001b[0m: 'tuple' object does not support item assignment"
          ]
        }
      ]
    },
    {
      "cell_type": "markdown",
      "source": [
        "(6)  Write a function to demonstrate the behavior of mutable and immutable arguments.\n",
        "\n"
      ],
      "metadata": {
        "id": "_pnp7ODP6LAy"
      }
    },
    {
      "cell_type": "code",
      "source": [
        "# prompt:  Write a function to demonstrate the behavior of mutable and immutable arguments.\n",
        "\n",
        "def demonstrate_mutability(my_list, my_string):\n",
        "  \"\"\"Demonstrates the behavior of mutable and immutable arguments.\n",
        "\n",
        "  Args:\n",
        "    my_list: A list, which is a mutable object.\n",
        "    my_string: A string, which is an immutable object.\n",
        "  \"\"\"\n",
        "\n",
        "  print(\"Inside the function:\")\n",
        "  my_list.append(4)  # Modifying the list within the function\n",
        "  print(f\"Modified list inside function: {my_list}\")\n",
        "\n",
        "  my_string += \" world\"  # Modifying the string within the function\n",
        "  print(f\"Modified string inside function: {my_string}\")\n",
        "\n",
        "# Create a list and a string\n",
        "my_list_outside = [1, 2, 3]\n",
        "my_string_outside = \"Hello\"\n",
        "\n",
        "print(\"Outside the function (before calling):\")\n",
        "print(f\"Original list: {my_list_outside}\")\n",
        "print(f\"Original string: {my_string_outside}\")\n",
        "\n",
        "# Call the function with the list and string\n",
        "demonstrate_mutability(my_list_outside, my_string_outside)\n",
        "\n",
        "print(\"\\nOutside the function (after calling):\")\n",
        "print(f\"List after function call: {my_list_outside}\")  # List is changed outside\n",
        "print(f\"String after function call: {my_string_outside}\")  # String is not changed outside\n"
      ],
      "metadata": {
        "colab": {
          "base_uri": "https://localhost:8080/"
        },
        "id": "9gKGD4BF6H4O",
        "outputId": "4a417eb8-653e-42c8-d5ec-920603407c62"
      },
      "execution_count": 15,
      "outputs": [
        {
          "output_type": "stream",
          "name": "stdout",
          "text": [
            "Outside the function (before calling):\n",
            "Original list: [1, 2, 3]\n",
            "Original string: Hello\n",
            "Inside the function:\n",
            "Modified list inside function: [1, 2, 3, 4]\n",
            "Modified string inside function: Hello world\n",
            "\n",
            "Outside the function (after calling):\n",
            "List after function call: [1, 2, 3, 4]\n",
            "String after function call: Hello\n"
          ]
        }
      ]
    },
    {
      "cell_type": "markdown",
      "source": [
        "(7)  Write a program that performs basic arithmetic operations on two user-input numbers."
      ],
      "metadata": {
        "id": "9Ui4XZf76vX9"
      }
    },
    {
      "cell_type": "code",
      "source": [
        "num1 = int(input(\"Enter the number:\"))\n",
        "num2 = int(input(\"Enter the number:\"))\n",
        "#Arithmetic Operators\n",
        "print(f\"Addition of {num1} and {num2} is {num1 +num2}\")\n",
        "print(f\"Substraction of {num1} and {num2} is {num1 - num2}\")\n",
        "print(f\"Multiplication of {num1} and {num2} is {num1*num2}\")\n",
        "print(f\"Division of {num1} and {num2} is {num1/num2}\")\n",
        "print(f\"Modulus of {num1} and {num2} is {num1%num2}\")\n",
        "print(f\"Floor division of {num1} amd {num2} is {num1 // num2}\")\n",
        "print(f\"Exponential of {num1} and {num2} is {num1**num2}\")"
      ],
      "metadata": {
        "colab": {
          "base_uri": "https://localhost:8080/"
        },
        "id": "bg1POVAU6tz6",
        "outputId": "3c072d4f-73c0-4a62-e726-701614ac1db0"
      },
      "execution_count": 21,
      "outputs": [
        {
          "output_type": "stream",
          "name": "stdout",
          "text": [
            "Enter the number:20\n",
            "Enter the number:25\n",
            "Addition of 20 and 25 is 45\n",
            "Substraction of 20 and 25 is -5\n",
            "Multiplication of 20 and 25 is 500\n",
            "Division of 20 and 25 is 0.8\n",
            "Modulus of 20 and 25 is 20\n",
            "Floor division of 20 amd 25 is 0\n",
            "Exponential of 20 and 25 is 335544320000000000000000000000000\n"
          ]
        }
      ]
    },
    {
      "cell_type": "markdown",
      "source": [
        "(8)  Write a program to demonstrate the use of logical operators."
      ],
      "metadata": {
        "id": "ZyPa0Hy--H6C"
      }
    },
    {
      "cell_type": "code",
      "source": [
        "# and , or\n",
        "a = int(input(\"Enter the number:\"))\n",
        "b = int(input(\"Enter the number:\"))\n",
        "x = (a>10) and (b>10)\n",
        "y = (a>10) or (b>10)\n",
        "print(x)\n",
        "print(y)\n"
      ],
      "metadata": {
        "colab": {
          "base_uri": "https://localhost:8080/"
        },
        "id": "DdWk4ytF6m6X",
        "outputId": "c39c3690-f134-471e-9ad0-5dcf66e38ad3"
      },
      "execution_count": 23,
      "outputs": [
        {
          "output_type": "stream",
          "name": "stdout",
          "text": [
            "Enter the number:20\n",
            "Enter the number:5\n",
            "False\n",
            "True\n"
          ]
        }
      ]
    },
    {
      "cell_type": "markdown",
      "source": [
        "(9) Write a Python program to convert user input from string to integer, float, and boolean types.\n",
        "- It gives the error because input function always the string and string is immutable that ways it does no the happened."
      ],
      "metadata": {
        "id": "CPu4NM9--6F8"
      }
    },
    {
      "cell_type": "markdown",
      "source": [
        "(10) Write code to demonstrate type casting with list elements."
      ],
      "metadata": {
        "id": "h6DSfwG9_sRV"
      }
    },
    {
      "cell_type": "code",
      "source": [
        "List = [10,20,\"Aditya\",13.13]\n",
        "a = int(List[0])\n",
        "b = float(List[1])\n",
        "c = str(List[2])\n",
        "d = bool(List[3])\n",
        "print(a,b,c,d)"
      ],
      "metadata": {
        "colab": {
          "base_uri": "https://localhost:8080/"
        },
        "id": "ASu--uaZ_yWx",
        "outputId": "c2d57b25-f461-45f1-dea8-61eddbf61eda"
      },
      "execution_count": 24,
      "outputs": [
        {
          "output_type": "stream",
          "name": "stdout",
          "text": [
            "10 20.0 Aditya True\n"
          ]
        }
      ]
    },
    {
      "cell_type": "markdown",
      "source": [
        "(11) Write a program that checks if a number is positive, negative, or zero.\n",
        "\n"
      ],
      "metadata": {
        "id": "JBVNzr60AGAe"
      }
    },
    {
      "cell_type": "code",
      "source": [
        "a = int(input(\"Enter the number\"))\n",
        "if (a<0):\n",
        "  print(f\"{a} is a negative number\")\n",
        "elif a == 0:\n",
        "  print(f\"{a} is a zero\")\n",
        "else:\n",
        "  print(f\"{a} is a positive number\")"
      ],
      "metadata": {
        "colab": {
          "base_uri": "https://localhost:8080/"
        },
        "id": "wexbWjn2ADnD",
        "outputId": "d1c40841-9c24-4c5e-b545-b408569e35fd"
      },
      "execution_count": 26,
      "outputs": [
        {
          "output_type": "stream",
          "name": "stdout",
          "text": [
            "Enter the number-69\n",
            "-69 is a negative number\n"
          ]
        }
      ]
    },
    {
      "cell_type": "markdown",
      "source": [
        "(12) Write a for loop to print numbers from 1 to 10."
      ],
      "metadata": {
        "id": "TChcgkxPAx4P"
      }
    },
    {
      "cell_type": "code",
      "source": [
        "for i in range(1,11):\n",
        "  print(i)"
      ],
      "metadata": {
        "colab": {
          "base_uri": "https://localhost:8080/"
        },
        "id": "WsEWB8HuApYt",
        "outputId": "5ee94547-b38a-4291-aad6-fa33449812ca"
      },
      "execution_count": 27,
      "outputs": [
        {
          "output_type": "stream",
          "name": "stdout",
          "text": [
            "1\n",
            "2\n",
            "3\n",
            "4\n",
            "5\n",
            "6\n",
            "7\n",
            "8\n",
            "9\n",
            "10\n"
          ]
        }
      ]
    },
    {
      "cell_type": "markdown",
      "source": [
        "(13)  Write a Python program to find the sum of all even numbers between 1 and 50."
      ],
      "metadata": {
        "id": "O-7V2-zFA79n"
      }
    },
    {
      "cell_type": "code",
      "source": [
        "sum = 0\n",
        "for i in range(1,51):\n",
        "  if i%2 == 0:\n",
        "    sum += i\n",
        "print(f\"Sum of the even number between 1 and 50 is {sum}\")\n"
      ],
      "metadata": {
        "colab": {
          "base_uri": "https://localhost:8080/"
        },
        "id": "FVAcSS4NA6Kz",
        "outputId": "25f62772-e979-4330-ea35-c5838b88fe6a"
      },
      "execution_count": 33,
      "outputs": [
        {
          "output_type": "stream",
          "name": "stdout",
          "text": [
            "Sum of the even number between 1 and 50 is 650\n"
          ]
        }
      ]
    },
    {
      "cell_type": "markdown",
      "source": [
        "(14) Write a program to reverse a string using a while loop."
      ],
      "metadata": {
        "id": "pMSsyq2tDWoU"
      }
    },
    {
      "cell_type": "code",
      "source": [
        "a = \"Aditya\"\n",
        "while a:\n",
        "  print(a[::-1])\n",
        "  break"
      ],
      "metadata": {
        "colab": {
          "base_uri": "https://localhost:8080/"
        },
        "id": "9WSmmqoqF35O",
        "outputId": "22bbbdb7-117a-4236-a717-259d4892ca67"
      },
      "execution_count": 37,
      "outputs": [
        {
          "output_type": "stream",
          "name": "stdout",
          "text": [
            "aytidA\n"
          ]
        }
      ]
    },
    {
      "cell_type": "markdown",
      "source": [
        "(15)  Write a Python program to calculate the factorial of a number provided by the user using a while loop."
      ],
      "metadata": {
        "id": "hk_LtWLaE4Ci"
      }
    },
    {
      "cell_type": "code",
      "source": [
        "a = int(input(\"Enter the number:\"))\n",
        "factorial = 1\n",
        "i = a\n",
        "while i>0:\n",
        "  factorial *=i\n",
        "  i-=1\n",
        "print(f\"factorail of a is {factorial}\")\n"
      ],
      "metadata": {
        "colab": {
          "base_uri": "https://localhost:8080/"
        },
        "id": "3mX8uJIaD4MV",
        "outputId": "865cb646-7c65-4ec8-895d-40c885ba42bd"
      },
      "execution_count": 39,
      "outputs": [
        {
          "output_type": "stream",
          "name": "stdout",
          "text": [
            "Enter the number:25\n",
            "factorail of a is 15511210043330985984000000\n"
          ]
        }
      ]
    },
    {
      "cell_type": "code",
      "source": [],
      "metadata": {
        "id": "BoANcIo7GtEj"
      },
      "execution_count": null,
      "outputs": []
    }
  ]
}